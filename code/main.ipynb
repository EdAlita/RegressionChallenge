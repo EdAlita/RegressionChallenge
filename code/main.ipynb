{
 "cells": [
  {
   "cell_type": "code",
   "execution_count": 120,
   "metadata": {},
   "outputs": [],
   "source": [
    "import pandas as pd\n",
    "import pickle\n",
    "import matplotlib.pyplot as plt\n",
    "from sklearn.linear_model import Ridge\n",
    "from sklearn.neighbors import KNeighborsRegressor\n",
    "from sklearn.preprocessing import StandardScaler\n",
    "from sklearn.model_selection import GridSearchCV, cross_val_predict\n",
    "from sklearn.metrics import mean_squared_error, mean_absolute_error, r2_score\n",
    "from tqdm import tqdm"
   ]
  },
  {
   "cell_type": "code",
   "execution_count": 121,
   "metadata": {},
   "outputs": [],
   "source": [
    "class RegressionChallenge():\n",
    "    def __init__(self,\n",
    "                 train_path,\n",
    "                 test_path):\n",
    "        self.train_file = train_path\n",
    "        self.test_file = test_path\n",
    "        tqdm.pandas()\n",
    "        \n",
    "        \n",
    "    def prepare_data(self):\n",
    "        train_data = pd.read_csv(self.train_file)\n",
    "        test_data= pd.read_csv(self.test_file)\n",
    "\n",
    "        # Separate features and response variable in training data\n",
    "        X_train = train_data.iloc[:, 1:-1]\n",
    "        X_test = test_data.iloc[:, 1:]\n",
    "        y_train = train_data.iloc[:, -1]\n",
    "        \n",
    "        X_train.info()\n",
    "        X_test.info()\n",
    "\n",
    "        # Perform feature scaling (if needed)\n",
    "        scaler = StandardScaler()\n",
    "        X_train = scaler.fit_transform(X_train)\n",
    "        X_test = scaler.transform(X_test)\n",
    "\n",
    "        return X_train, y_train, X_test\n",
    "    \n",
    "    def train_linear_regression(self,\n",
    "                                X_train,\n",
    "                                y_train):\n",
    "        ridge = Ridge()\n",
    "        param_grid = {'alpha': [0.01, 0.1, 1, 10]}  # Example: alpha values to tune\n",
    "        grid_search = GridSearchCV(ridge, param_grid, cv=5)\n",
    "        grid_search.fit(X_train, y_train)\n",
    "        best_params = grid_search.best_params_\n",
    "        best_estimator = grid_search.best_estimator_\n",
    "\n",
    "        # Save the best estimator using pickle\n",
    "        with open('../out/linear_regression_model.pkl', 'wb') as file:\n",
    "            pickle.dump(best_estimator, file)\n",
    "            \n",
    "        return best_estimator, best_params\n",
    "    \n",
    "    def predict_linear_regression(self,\n",
    "                                  lm, \n",
    "                                  X_test):\n",
    "        y_pred_lm = lm.predict(X_test)\n",
    "        return y_pred_lm\n",
    "    \n",
    "    def train_knn(self,\n",
    "                  X_train, \n",
    "                  y_train):\n",
    "        knn = KNeighborsRegressor()\n",
    "        param_grid = {\n",
    "            'n_neighbors': [1,2,3, 5, 7],  # Example: k values to tune\n",
    "            'weights': ['uniform', 'distance'],\n",
    "            'algorithm': ['auto', 'ball_tree', 'kd_tree', 'brute'],\n",
    "            'leaf_size': [10, 30, 50],\n",
    "            'p': [1, 2, 3]  # Example: different values of p    \n",
    "        }\n",
    "        grid_search = GridSearchCV(knn, param_grid, cv=5)\n",
    "        grid_search.fit(X_train, y_train)\n",
    "        best_params = grid_search.best_params_\n",
    "        best_estimator = grid_search.best_estimator_\n",
    "        best_resuts = grid_search.cv_results_\n",
    "\n",
    "        # Save the best estimator using pickle\n",
    "        with open('../out/knn_model.pkl', 'wb') as file:\n",
    "            pickle.dump(best_estimator, file)\n",
    "\n",
    "        return best_estimator, best_params, best_resuts\n",
    "\n",
    "    def predict_knn(self,\n",
    "                    knn,\n",
    "                    X_test):\n",
    "        y_pred_knn = knn.predict(X_test)\n",
    "        return y_pred_knn\n",
    "    \n",
    "    \n",
    "    def evaluate_model(self,\n",
    "                       y_true, \n",
    "                       y_pred, \n",
    "                       model_name):\n",
    "        mse = mean_squared_error(y_true, y_pred)\n",
    "        mae = mean_absolute_error(y_true, y_pred)\n",
    "        r2 = r2_score(y_true, y_pred)\n",
    "        evaluation = pd.DataFrame({'Model': [model_name], 'MSE': [mse], 'MAE': [mae], 'R2': [r2]})\n",
    "        return evaluation\n",
    "    \n",
    "    def show_selected_parameters(slef,model_name, best_params):\n",
    "        print(f\"Selected parameters for {model_name}:\")\n",
    "        for param, value in best_params.items():\n",
    "            print(f\"{param}: {value}\")\n",
    "  "
   ]
  },
  {
   "cell_type": "code",
   "execution_count": 122,
   "metadata": {},
   "outputs": [
    {
     "name": "stdout",
     "output_type": "stream",
     "text": [
      "<class 'pandas.core.frame.DataFrame'>\n",
      "RangeIndex: 1000 entries, 0 to 999\n",
      "Data columns (total 9 columns):\n",
      " #   Column  Non-Null Count  Dtype  \n",
      "---  ------  --------------  -----  \n",
      " 0   v1      1000 non-null   float64\n",
      " 1   v2      1000 non-null   float64\n",
      " 2   v3      1000 non-null   float64\n",
      " 3   v4      1000 non-null   float64\n",
      " 4   v5      1000 non-null   float64\n",
      " 5   v6      1000 non-null   float64\n",
      " 6   v7      1000 non-null   float64\n",
      " 7   v8      1000 non-null   float64\n",
      " 8   v9      1000 non-null   float64\n",
      "dtypes: float64(9)\n",
      "memory usage: 70.4 KB\n",
      "<class 'pandas.core.frame.DataFrame'>\n",
      "RangeIndex: 100 entries, 0 to 99\n",
      "Data columns (total 9 columns):\n",
      " #   Column  Non-Null Count  Dtype  \n",
      "---  ------  --------------  -----  \n",
      " 0   v1      100 non-null    float64\n",
      " 1   v2      100 non-null    float64\n",
      " 2   v3      100 non-null    float64\n",
      " 3   v4      100 non-null    float64\n",
      " 4   v5      100 non-null    float64\n",
      " 5   v6      100 non-null    float64\n",
      " 6   v7      100 non-null    float64\n",
      " 7   v8      100 non-null    float64\n",
      " 8   v9      100 non-null    float64\n",
      "dtypes: float64(9)\n",
      "memory usage: 7.2 KB\n"
     ]
    }
   ],
   "source": [
    "solver = RegressionChallenge(\n",
    "    '../data/train_ch.csv',\n",
    "    '../data/test_ch.csv'\n",
    ")\n",
    "\n",
    "X_train, y_train, X_test = solver.prepare_data()\n",
    "\n",
    "# Train and predict with Linear Regression\n",
    "lm, lm_params = solver.train_linear_regression(X_train, y_train)\n",
    "y_pred_lm = cross_val_predict(lm, X_train, y_train, cv=5)\n",
    "\n",
    "# Train and predict with KNN Regression\n",
    "knn, knn_params, knn_results = solver.train_knn(X_train, y_train)\n",
    "y_pred_knn = cross_val_predict(knn, X_train, y_train, cv=5)\n",
    "\n"
   ]
  },
  {
   "cell_type": "code",
   "execution_count": 123,
   "metadata": {},
   "outputs": [
    {
     "name": "stdout",
     "output_type": "stream",
     "text": [
      "               Model         MSE        MAE        R2\n",
      "0  Linear Regression  222.305002  12.783789  0.996002\n",
      "            Model          MSE       MAE        R2\n",
      "0  KNN Regression  5328.330083  58.58787  0.904177\n"
     ]
    }
   ],
   "source": [
    "evaluation = []\n",
    "print(solver.evaluate_model(y_train, y_pred_lm, 'Linear Regression'))\n",
    "print(solver.evaluate_model(y_train, y_pred_knn, 'KNN Regression'))\n"
   ]
  },
  {
   "cell_type": "code",
   "execution_count": 124,
   "metadata": {},
   "outputs": [],
   "source": [
    "# Save the predictions from all models to a CSV file\n",
    "y_test_predict_lm = solver.predict_linear_regression(lm, X_test )\n",
    "y_test_predict_knn = solver.predict_knn(knn, X_test )\n",
    "predictions_df = pd.DataFrame({'pred_lm': y_test_predict_lm, 'pred_knn': y_test_predict_knn})\n",
    "predictions_df.to_csv('../out/predictions.csv', index=False)"
   ]
  },
  {
   "cell_type": "code",
   "execution_count": 125,
   "metadata": {},
   "outputs": [
    {
     "name": "stdout",
     "output_type": "stream",
     "text": [
      "Selected parameters for KNN Regression:\n",
      "algorithm: auto\n",
      "leaf_size: 10\n",
      "n_neighbors: 7\n",
      "p: 3\n",
      "weights: distance\n",
      "Selected parameters for Linear Regression:\n",
      "alpha: 1\n"
     ]
    }
   ],
   "source": [
    "# Show selected parameters for each model\n",
    "solver.show_selected_parameters('KNN Regression', knn_params)\n",
    "solver.show_selected_parameters('Linear Regression', lm_params)"
   ]
  }
 ],
 "metadata": {
  "kernelspec": {
   "display_name": "Python 3",
   "language": "python",
   "name": "python3"
  },
  "language_info": {
   "codemirror_mode": {
    "name": "ipython",
    "version": 3
   },
   "file_extension": ".py",
   "mimetype": "text/x-python",
   "name": "python",
   "nbconvert_exporter": "python",
   "pygments_lexer": "ipython3",
   "version": "3.10.6"
  },
  "orig_nbformat": 4
 },
 "nbformat": 4,
 "nbformat_minor": 2
}
